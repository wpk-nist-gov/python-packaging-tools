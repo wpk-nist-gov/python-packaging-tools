{
 "cells": [
  {
   "cell_type": "code",
   "execution_count": 3,
   "id": "93185a63-464c-46a1-a002-2fe74b782c50",
   "metadata": {},
   "outputs": [],
   "source": [
    "import numpy as np"
   ]
  },
  {
   "cell_type": "code",
   "execution_count": 2,
   "id": "7e1249c1-cb93-45d6-80d9-dbf68ad380c8",
   "metadata": {},
   "outputs": [],
   "source": [
    "a = np.array([1, 2, 3])\n",
    "\n",
    "out = 0\n",
    "for x in a:\n",
    "    out += x"
   ]
  },
  {
   "cell_type": "code",
   "execution_count": null,
   "id": "0b3ab04d-88ca-4b80-b44e-1d38c366fb50",
   "metadata": {},
   "outputs": [],
   "source": []
  }
 ],
 "metadata": {
  "kernelspec": {
   "display_name": "Python [venv: python-packaging-tools-dev]",
   "language": "python",
   "name": "python-packaging-tools-dev"
  },
  "language_info": {
   "codemirror_mode": {
    "name": "ipython",
    "version": 3
   },
   "file_extension": ".py",
   "mimetype": "text/x-python",
   "name": "python",
   "nbconvert_exporter": "python",
   "pygments_lexer": "ipython3",
   "version": "3.12.9"
  }
 },
 "nbformat": 4,
 "nbformat_minor": 5
}
