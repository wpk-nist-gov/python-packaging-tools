{
 "cells": [
  {
   "cell_type": "markdown",
   "id": "0",
   "metadata": {
    "editable": true,
    "slideshow": {
     "slide_type": "slide"
    },
    "tags": []
   },
   "source": [
    "# An (opinionated) survey of tools and best practices for packaging python code"
   ]
  },
  {
   "cell_type": "markdown",
   "id": "1",
   "metadata": {
    "editable": true,
    "slideshow": {
     "slide_type": "slide"
    },
    "tags": []
   },
   "source": [
    "# An example to guide our discussion\n",
    "\n",
    "* We want to calculate the [Effective hard-sphere reduced density](https://en.wikipedia.org/wiki/Noro%E2%80%93Frenkel_law_of_corresponding_states#cite_note-2), $\\rho^*_{eff}(T)$, of a fluid of particles which interact with the classical [Mie](https://en.wikipedia.org/wiki/Mie_potential) potential:\n",
    "\n",
    "$$\n",
    "V(r) = C \\, \\varepsilon \\left[ \\left(\\frac{\\sigma}{r} \\right)^{n}-  \\left( \\frac{\\sigma}{r}\\right)^m \\right]\n",
    "$$\n",
    "\n",
    "for different values of $m$ and $n$.  For this we need to calculate the effective diameter $\\sigma_{eff}(T)$.  Then\n",
    "\n",
    "$$\n",
    "\\rho^*_{eff}(T) = \\rho \\sigma_{eff}(T)^3\n",
    "$$\n",
    "\n",
    "* Luckily, there's already a package, [analphipy](https://github.com/usnistgov/analphipy), which can calculate `\\sigma_{eff}(T)`,\n",
    "  so all we have to do is the simple calculation above.\n",
    "* The potential parameters are in a csv file `params.csv` of the form:\n",
    "\n",
    "```csv\n",
    "m,n,temp,dens\n",
    "12,6,1.0,0.1\n",
    "12,6,1.0,0.2\n",
    "12,6,1.0,0.3\n",
    "...\n",
    "```\n",
    "\n",
    "* One option is to write all the code we need in a jupyter notebook, and run it there.\n",
    "* Another is to write a command line script/application to perform the calculation."
   ]
  },
  {
   "cell_type": "markdown",
   "id": "2",
   "metadata": {
    "editable": true,
    "slideshow": {
     "slide_type": "slide"
    },
    "tags": []
   },
   "source": [
    "# Installing dependencies\n",
    "\n",
    "* We'll need to install `analphipy` and any additional packages needed.\n",
    "* You could install all of this in a mega-environment, but this is bad for a number of reasons\n",
    "  - Python packages have many interdependencies.\n",
    "  - For example, most of the scientific stack is based off `numpy`.\n",
    "  - Recently, `numpy` updated to version `2.0`, with some breaking changes.  Some new packages are designed to work with only `numpy==2.0`, while others only work with `numpy<2.0`.\n",
    "  - So if you install all your packages in one environment, you'll run into problems.\n",
    "* Instead, it's better to create an isolated environment per project or related tasks."
   ]
  },
  {
   "cell_type": "code",
   "execution_count": 12,
   "id": "3",
   "metadata": {
    "editable": true,
    "slideshow": {
     "slide_type": "fragment"
    },
    "tags": []
   },
   "outputs": [
    {
     "name": "stdout",
     "output_type": "stream",
     "text": [
      "Channels:\n",
      " - conda-forge\n",
      "Platform: osx-64\n",
      "doneecting package metadata (repodata.json): - \n",
      "failedg environment: \\ \n",
      "\n",
      "LibMambaUnsatisfiableError: Encountered problems while solving:\n",
      "  - nothing provides _numpy_rc needed by numpy-2.1.0rc1-py310he367959_0\n",
      "\n",
      "Could not solve for environment specs\n",
      "The following packages are incompatible\n",
      "├─ \u001b[32mnumpy >2.0 \u001b[0m is installable with the potential options\n",
      "│  ├─ \u001b[32mnumpy [2.0.1|2.0.2]\u001b[0m would require\n",
      "│  │  └─ \u001b[32mpython_abi 3.9.* *_cp39\u001b[0m, which can be installed;\n",
      "│  ├─ \u001b[32mnumpy [2.0.1|2.0.2|...|2.2.3]\u001b[0m would require\n",
      "│  │  └─ \u001b[32mpython_abi 3.10.* *_cp310\u001b[0m, which can be installed;\n",
      "│  ├─ \u001b[32mnumpy [2.0.1|2.0.2|...|2.2.3]\u001b[0m would require\n",
      "│  │  └─ \u001b[32mpython_abi 3.11.* *_cp311\u001b[0m, which can be installed;\n",
      "│  ├─ \u001b[32mnumpy [2.0.1|2.0.2|...|2.2.3]\u001b[0m would require\n",
      "│  │  └─ \u001b[32mpython >=3.12,<3.13.0a0 \u001b[0m with the potential options\n",
      "│  │     ├─ \u001b[31mpython 3.12.0\u001b[0m would require\n",
      "│  │     │  └─ \u001b[31mpython_abi 3.12.* *_cp312\u001b[0m, which conflicts with any installable versions previously reported;\n",
      "│  │     └─ \u001b[32mpython [3.12.1|3.12.2|...|3.12.9]\u001b[0m, which can be installed;\n",
      "│  ├─ \u001b[32mnumpy [2.1.0|2.1.1|...|2.2.3]\u001b[0m would require\n",
      "│  │  └─ \u001b[32mpython_abi 3.13.* *_cp313\u001b[0m, which can be installed;\n",
      "│  ├─ \u001b[31mnumpy [2.1.0rc1|2.2.0rc1]\u001b[0m would require\n",
      "│  │  └─ \u001b[31m_numpy_rc\u001b[0m, which does not exist (perhaps a missing channel);\n",
      "│  └─ \u001b[32mnumpy [2.1.2|2.1.3|...|2.2.3]\u001b[0m would require\n",
      "│     └─ \u001b[32mpython_abi 3.13.* *_cp313t\u001b[0m, which can be installed;\n",
      "├─ \u001b[32mpython 3.12** \u001b[0m is installable with the potential options\n",
      "│  ├─ \u001b[31mpython 3.12.0\u001b[0m, which cannot be installed (as previously explained);\n",
      "│  ├─ \u001b[31mpython 3.12.0rc3\u001b[0m would require\n",
      "│  │  └─ \u001b[31m_python_rc\u001b[0m, which does not exist (perhaps a missing channel);\n",
      "│  └─ \u001b[32mpython [3.12.1|3.12.2|...|3.12.9]\u001b[0m, which can be installed;\n",
      "└─ \u001b[31mtensorflow\u001b[0m is not installable because there are no viable options\n",
      "   ├─ \u001b[31mtensorflow [0.10.0|0.11.0|...|1.9.0]\u001b[0m would require\n",
      "   │  ├─ \u001b[31mpython [2.7* |>=2.7,<2.8.0a0 ]\u001b[0m, which conflicts with any installable versions previously reported;\n",
      "   │  └─ \u001b[31mtensorflow-base [1.13.1 py27_5|1.13.1 py27_7]\u001b[0m, which requires\n",
      "   │     └─ \u001b[31mpython >=2.7,<2.8.0a0 \u001b[0m, which conflicts with any installable versions previously reported;\n",
      "   ├─ \u001b[31mtensorflow [0.10.0|0.11.0|...|0.9.0]\u001b[0m would require\n",
      "   │  └─ \u001b[31mpython 3.4* \u001b[0m, which conflicts with any installable versions previously reported;\n",
      "   ├─ \u001b[31mtensorflow [0.10.0|0.11.0|...|1.9.0]\u001b[0m would require\n",
      "   │  └─ \u001b[31mpython [3.5* |>=3.5,<3.6.0a0 ]\u001b[0m, which conflicts with any installable versions previously reported;\n",
      "   ├─ \u001b[31mtensorflow [0.12.1|1.0.0|...|1.5.1]\u001b[0m would require\n",
      "   │  └─ \u001b[31mpython 3.6* \u001b[0m, which conflicts with any installable versions previously reported;\n",
      "   ├─ \u001b[31mtensorflow [1.10.0|1.13.1|...|1.9.0]\u001b[0m would require\n",
      "   │  ├─ \u001b[31mpython >=3.6,<3.7.0a0 \u001b[0m, which conflicts with any installable versions previously reported;\n",
      "   │  └─ \u001b[31mtensorflow-base 1.13.2 py36_0\u001b[0m, which requires\n",
      "   │     └─ \u001b[31mpython >=3.6,<3.7.0a0 \u001b[0m, which conflicts with any installable versions previously reported;\n",
      "   ├─ \u001b[31mtensorflow 1.13.1\u001b[0m would require\n",
      "   │  ├─ \u001b[31mpython >=3.7,<3.8.0a0 \u001b[0m, which conflicts with any installable versions previously reported;\n",
      "   │  └─ \u001b[31mtensorflow-base [1.13.1 py37_4|1.13.1 py37_6|1.13.1 py37_8]\u001b[0m, which requires\n",
      "   │     └─ \u001b[31mpython >=3.7,<3.8.0a0 \u001b[0m, which conflicts with any installable versions previously reported;\n",
      "   ├─ \u001b[31mtensorflow 1.14.0\u001b[0m would require\n",
      "   │  └─ \u001b[31mtensorflow-base [1.14.0 py36h9f0ad1d_0|1.14.0 py37hc8dfbb8_0]\u001b[0m, which requires\n",
      "   │     └─ \u001b[31mnumpy >=1.16.1,<2.0.0a0 \u001b[0m, which conflicts with any installable versions previously reported;\n",
      "   ├─ \u001b[31mtensorflow [2.10.0|2.11.0|...|2.9.1]\u001b[0m would require\n",
      "   │  └─ \u001b[31mtensorflow-base [2.10.0 cpu_py310h23d3fc9_0|2.11.0 cpu_py310h760b059_0|...|2.9.1 cpu_py310h157eb30_0]\u001b[0m, which requires\n",
      "   │     └─ \u001b[31mnumpy >=1.21.6,<2.0a0 \u001b[0m, which conflicts with any installable versions previously reported;\n",
      "   ├─ \u001b[31mtensorflow [2.10.0|2.11.0|...|2.9.1]\u001b[0m would require\n",
      "   │  └─ \u001b[31mtensorflow-base [2.10.0 cpu_py37he4de7cd_0|2.10.0 cpu_py38h13e9d53_0|...|2.9.1 cpu_py39hdd40284_0]\u001b[0m, which requires\n",
      "   │     └─ \u001b[31mnumpy >=1.20.3,<2.0a0 \u001b[0m, which conflicts with any installable versions previously reported;\n",
      "   ├─ \u001b[31mtensorflow [2.4.0|2.4.1|2.4.3]\u001b[0m would require\n",
      "   │  └─ \u001b[31mtensorflow-base [2.4.0 py36haedffce_0|2.4.0 py37h618b513_0|...|2.4.3 py39h9e0eb93_0]\u001b[0m, which requires\n",
      "   │     └─ \u001b[31mh5py 2.10.* \u001b[0m but there are no viable options\n",
      "   │        ├─ \u001b[31mh5py 2.10.0\u001b[0m would require\n",
      "   │        │  └─ \u001b[31mnumpy >=1.14.6,<2.0a0 \u001b[0m, which conflicts with any installable versions previously reported;\n",
      "   │        ├─ \u001b[31mh5py 2.10.0\u001b[0m would require\n",
      "   │        │  └─ \u001b[31mnumpy >=1.17.5,<2.0a0 \u001b[0m, which conflicts with any installable versions previously reported;\n",
      "   │        ├─ \u001b[31mh5py 2.10.0\u001b[0m would require\n",
      "   │        │  └─ \u001b[31mnumpy >=1.16.5,<2.0a0 \u001b[0m, which conflicts with any installable versions previously reported;\n",
      "   │        ├─ \u001b[31mh5py 2.10.0\u001b[0m would require\n",
      "   │        │  └─ \u001b[31mnumpy >=1.16.6,<2.0a0 \u001b[0m, which conflicts with any installable versions previously reported;\n",
      "   │        ├─ \u001b[31mh5py 2.10.0\u001b[0m would require\n",
      "   │        │  └─ \u001b[31mnumpy >=1.19.5,<2.0a0 \u001b[0m, which conflicts with any installable versions previously reported;\n",
      "   │        └─ \u001b[31mh5py 2.10.0\u001b[0m would require\n",
      "   │           └─ \u001b[31mnumpy >=1.19.2,<2.0a0 \u001b[0m, which conflicts with any installable versions previously reported;\n",
      "   ├─ \u001b[31mtensorflow [2.6.0|2.6.2]\u001b[0m would require\n",
      "   │  └─ \u001b[31mtensorflow-base [2.6.0 py36ha9b9f1f_0|2.6.0 py37h05ab19a_0|...|2.6.2 cpu_py39h87c5db1_2]\u001b[0m, which requires\n",
      "   │     └─ \u001b[31mnumpy >=1.19.2,<1.20 \u001b[0m, which conflicts with any installable versions previously reported;\n",
      "   ├─ \u001b[31mtensorflow 2.7.0\u001b[0m would require\n",
      "   │  └─ \u001b[31mtensorflow-base 2.7.0 cpu_py310h437b8d6_0\u001b[0m, which requires\n",
      "   │     └─ \u001b[31mnumpy >=1.21.5,<2.0a0 \u001b[0m, which conflicts with any installable versions previously reported;\n",
      "   ├─ \u001b[31mtensorflow 2.7.0\u001b[0m would require\n",
      "   │  └─ \u001b[31mtensorflow-base [2.7.0 cpu_py37ha7bdf64_0|2.7.0 cpu_py38h91e8603_0]\u001b[0m, which requires\n",
      "   │     └─ \u001b[31mnumpy >=1.18.5,<2.0a0 \u001b[0m, which conflicts with any installable versions previously reported;\n",
      "   ├─ \u001b[31mtensorflow [2.7.0|2.7.1]\u001b[0m would require\n",
      "   │  └─ \u001b[31mtensorflow-base [2.7.0 cpu_py39h326c378_0|2.7.1 cpu_py37hc797e70_0|2.7.1 cpu_py38h2ac695d_0|2.7.1 cpu_py39hc561296_0]\u001b[0m, which requires\n",
      "   │     └─ \u001b[31mnumpy >=1.19.5,<2.0a0 \u001b[0m, which conflicts with any installable versions previously reported;\n",
      "   ├─ \u001b[31mtensorflow 2.12.1\u001b[0m would require\n",
      "   │  └─ \u001b[31mtensorflow-base [2.12.1 cpu_py310h235f313_0|2.12.1 cpu_py38h2d44dff_0|2.12.1 cpu_py39h905e513_0]\u001b[0m, which requires\n",
      "   │     └─ \u001b[31mnumpy >=1.22,<2.0a0 \u001b[0m, which conflicts with any installable versions previously reported;\n",
      "   ├─ \u001b[31mtensorflow [2.12.1|2.13.1|...|2.17.0]\u001b[0m would require\n",
      "   │  └─ \u001b[31mtensorflow-base [2.12.1 cpu_py310h72f9296_1|2.12.1 cpu_py38h7595b79_1|...|2.17.0 cpu_py39hd0ea08c_0]\u001b[0m, which requires\n",
      "   │     └─ \u001b[31mnumpy >=1.22.4,<2.0a0 \u001b[0m, which conflicts with any installable versions previously reported;\n",
      "   ├─ \u001b[31mtensorflow [2.12.1|2.13.1|...|2.17.0]\u001b[0m would require\n",
      "   │  └─ \u001b[31mtensorflow-base [2.12.1 cpu_py311h0cd1a8d_1|2.12.1 cpu_py311h682096a_0|...|2.17.0 cpu_py311ha49c014_3]\u001b[0m, which requires\n",
      "   │     └─ \u001b[31mnumpy >=1.23.5,<2.0a0 \u001b[0m, which conflicts with any installable versions previously reported;\n",
      "   └─ \u001b[31mtensorflow [2.16.1|2.17.0]\u001b[0m would require\n",
      "      └─ \u001b[31mtensorflow-base [2.16.1 cpu_py312h2571b1d_0|2.17.0 cpu_py312h48e1e5b_0|2.17.0 cpu_py312h92ba555_3]\u001b[0m, which requires\n",
      "         └─ \u001b[31mnumpy >=1.26.4,<2.0a0 \u001b[0m, which conflicts with any installable versions previously reported.\n",
      "\n"
     ]
    }
   ],
   "source": [
    "# Example of an environment that doesn't work.\n",
    "# This is a made up example, but you can run into this with mega-environments.\n",
    "!conda create -p ./example_conda_env \"python=3.12\" \"numpy>2.0\" tensorflow"
   ]
  },
  {
   "cell_type": "markdown",
   "id": "4",
   "metadata": {
    "editable": true,
    "slideshow": {
     "slide_type": "slide"
    },
    "tags": []
   },
   "source": [
    "# Using conda\n",
    "\n",
    "* First this, don't use [anaconda](https://www.anaconda.com/download) distribution.  NIST isn't paying for it anymore, and it is bloated with packages you probably don't need.\n",
    "* Instead, use [MiniForge](https://github.com/conda-forge/miniforge) or [micromamba](https://mamba.readthedocs.io/en/latest/user_guide/micromamba.html)\n",
    "* On that note, stop using `conda` and switch to using `mamba`.  It's exactly the same, but faster.\n",
    "* If using conda, you can (and should) use an environment.yaml file\n",
    "\n",
    "```yaml\n"
   ]
  },
  {
   "cell_type": "code",
   "execution_count": null,
   "id": "5",
   "metadata": {
    "editable": true,
    "slideshow": {
     "slide_type": ""
    },
    "tags": []
   },
   "outputs": [],
   "source": []
  }
 ],
 "metadata": {
  "language_info": {
   "codemirror_mode": {
    "name": "ipython",
    "version": 3
   },
   "file_extension": ".py",
   "mimetype": "text/x-python",
   "name": "python",
   "nbconvert_exporter": "python",
   "pygments_lexer": "ipython3",
   "version": "3.12.9"
  }
 },
 "nbformat": 4,
 "nbformat_minor": 5
}
