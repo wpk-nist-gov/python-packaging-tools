{
 "cells": [
  {
   "cell_type": "markdown",
   "id": "0a6c1b12-b1a3-44de-a05e-ab0c9cb52aab",
   "metadata": {
    "editable": true,
    "jp-MarkdownHeadingCollapsed": true,
    "slideshow": {
     "slide_type": "slide"
    },
    "tags": []
   },
   "source": [
    "# An (opinionated) survey of tools and best practices for packaging python code"
   ]
  },
  {
   "cell_type": "markdown",
   "id": "327a217a-0e3e-4b92-b3ca-b8daf17eab92",
   "metadata": {
    "editable": true,
    "jp-MarkdownHeadingCollapsed": true,
    "slideshow": {
     "slide_type": "slide"
    },
    "tags": []
   },
   "source": [
    "# TL;DR\n",
    "\n",
    "* If possible, use a lock file\n",
    "* Prefer python virtual env (and `uv` in particular) over conda\n",
    "* If using `conda`, try to use `miniforge` (with `mamba`) or `micromamba` (also check out `pixi`)\n",
    "* Use `ruff` for linting and formatting code\n",
    "* Use `pre-commit` to control all linters\n",
    "* Check out `mypy`/`pyright`\n",
    "* Pretty simple to make code installable from from `pip`/`uv`/`conda`\n"
   ]
  },
  {
   "cell_type": "markdown",
   "id": "2191000e-e962-451c-b9b7-7ecada4cbfa4",
   "metadata": {
    "editable": true,
    "jp-MarkdownHeadingCollapsed": true,
    "slideshow": {
     "slide_type": "slide"
    },
    "tags": []
   },
   "source": [
    "# An simple example to play with\n",
    "\n",
    "* We want to calculate the second virial coefficient of square-well fluids for a table of parameters.\n",
    "\n",
    "$$\n",
    "B_2(T) = 2 \\pi/ 3 [1 + (1 - \\exp(-\\epsilon / kT)) (\\lambda^3 - 1)]\n",
    "$$\n",
    "\n",
    "* The potential parameters are in a csv file `params.csv` of the form:\n",
    "\n",
    "```csv\n",
    "sig,eps,lam,temp\n",
    "1.0,-1.0,0.1,0.5\n",
    "1.0,-1.0,0.1,1.0\n",
    "...\n",
    "```\n",
    "\n",
    "* We'll use pandas to read the csv file (not strictly needed, but need a simple dependency)\n",
    "* Calculation options\n",
    "    1. Use a jupyter notebook\n",
    "    2. Use a script\n",
    "    3. Make an application"
   ]
  },
  {
   "cell_type": "markdown",
   "id": "e91eb59b-3970-4d56-b046-e55ec326b91f",
   "metadata": {
    "editable": true,
    "slideshow": {
     "slide_type": "slide"
    },
    "tags": []
   },
   "source": [
    "# Using a notebook with an environment\n",
    "click [here](./calculation.ipynb)"
   ]
  },
  {
   "cell_type": "markdown",
   "id": "ffc1607e-92d6-4c30-bf8c-48978ac49187",
   "metadata": {
    "editable": true,
    "slideshow": {
     "slide_type": "slide"
    },
    "tags": []
   },
   "source": [
    "# Installing dependencies\n",
    "\n",
    "* How did we get the environment to run the notebook?\n",
    "* We need to install `pandas`, etc.\n",
    "* You could install all of this in a mega-environment, but this is bad for a number of reasons\n",
    "  - Python packages have many interdependencies.\n",
    "  - For example, most of the scientific stack is based off `numpy`.\n",
    "  - Recently, `numpy` updated to version `2.0`, with some breaking changes.  Some new packages are designed to work with only `numpy==2.0`, while others only work with `numpy<2.0`.\n",
    "  - So if you install all your packages in one environment, you'll run into problems.\n",
    "* Instead, it's better to create an isolated environment per project or related tasks."
   ]
  },
  {
   "cell_type": "code",
   "execution_count": 1,
   "id": "7d6b35e8-ce43-4096-84aa-4b2d5ae474f2",
   "metadata": {
    "editable": true,
    "slideshow": {
     "slide_type": "slide"
    },
    "tags": []
   },
   "outputs": [
    {
     "name": "stdout",
     "output_type": "stream",
     "text": [
      "Channels:\n",
      " - conda-forge\n",
      "Platform: osx-64\n",
      "doneecting package metadata (repodata.json): - \n",
      "failedg environment: | \n",
      "\n",
      "LibMambaUnsatisfiableError: Encountered problems while solving:\n",
      "  - nothing provides _numpy_rc needed by numpy-2.1.0rc1-py310he367959_0\n",
      "\n",
      "Could not solve for environment specs\n",
      "The following packages are incompatible\n",
      "├─ \u001b[32mnumpy >2.0 \u001b[0m is installable with the potential options\n",
      "│  ├─ \u001b[32mnumpy [2.0.1|2.0.2]\u001b[0m would require\n",
      "│  │  └─ \u001b[32mpython_abi 3.9.* *_cp39\u001b[0m, which can be installed;\n",
      "│  ├─ \u001b[32mnumpy [2.0.1|2.0.2|...|2.2.3]\u001b[0m would require\n",
      "│  │  └─ \u001b[32mpython_abi 3.10.* *_cp310\u001b[0m, which can be installed;\n",
      "│  ├─ \u001b[32mnumpy [2.0.1|2.0.2|...|2.2.3]\u001b[0m would require\n",
      "│  │  └─ \u001b[32mpython_abi 3.11.* *_cp311\u001b[0m, which can be installed;\n",
      "│  ├─ \u001b[32mnumpy [2.0.1|2.0.2|...|2.2.3]\u001b[0m would require\n",
      "│  │  └─ \u001b[32mpython >=3.12,<3.13.0a0 \u001b[0m with the potential options\n",
      "│  │     ├─ \u001b[31mpython 3.12.0\u001b[0m would require\n",
      "│  │     │  └─ \u001b[31mpython_abi 3.12.* *_cp312\u001b[0m, which conflicts with any installable versions previously reported;\n",
      "│  │     └─ \u001b[32mpython [3.12.1|3.12.2|...|3.12.9]\u001b[0m, which can be installed;\n",
      "│  ├─ \u001b[32mnumpy [2.1.0|2.1.1|...|2.2.3]\u001b[0m would require\n",
      "│  │  └─ \u001b[32mpython_abi 3.13.* *_cp313\u001b[0m, which can be installed;\n",
      "│  ├─ \u001b[31mnumpy [2.1.0rc1|2.2.0rc1]\u001b[0m would require\n",
      "│  │  └─ \u001b[31m_numpy_rc\u001b[0m, which does not exist (perhaps a missing channel);\n",
      "│  └─ \u001b[32mnumpy [2.1.2|2.1.3|...|2.2.3]\u001b[0m would require\n",
      "│     └─ \u001b[32mpython_abi 3.13.* *_cp313t\u001b[0m, which can be installed;\n",
      "├─ \u001b[32mpython 3.12** \u001b[0m is installable with the potential options\n",
      "│  ├─ \u001b[31mpython 3.12.0\u001b[0m, which cannot be installed (as previously explained);\n",
      "│  ├─ \u001b[31mpython 3.12.0rc3\u001b[0m would require\n",
      "│  │  └─ \u001b[31m_python_rc\u001b[0m, which does not exist (perhaps a missing channel);\n",
      "│  └─ \u001b[32mpython [3.12.1|3.12.2|...|3.12.9]\u001b[0m, which can be installed;\n",
      "└─ \u001b[31mtensorflow\u001b[0m is not installable because there are no viable options\n",
      "   ├─ \u001b[31mtensorflow [0.10.0|0.11.0|...|1.9.0]\u001b[0m would require\n",
      "   │  ├─ \u001b[31mpython [2.7* |>=2.7,<2.8.0a0 ]\u001b[0m, which conflicts with any installable versions previously reported;\n",
      "   │  └─ \u001b[31mtensorflow-base [1.13.1 py27_5|1.13.1 py27_7]\u001b[0m, which requires\n",
      "   │     └─ \u001b[31mpython >=2.7,<2.8.0a0 \u001b[0m, which conflicts with any installable versions previously reported;\n",
      "   ├─ \u001b[31mtensorflow [0.10.0|0.11.0|...|0.9.0]\u001b[0m would require\n",
      "   │  └─ \u001b[31mpython 3.4* \u001b[0m, which conflicts with any installable versions previously reported;\n",
      "   ├─ \u001b[31mtensorflow [0.10.0|0.11.0|...|1.9.0]\u001b[0m would require\n",
      "   │  └─ \u001b[31mpython [3.5* |>=3.5,<3.6.0a0 ]\u001b[0m, which conflicts with any installable versions previously reported;\n",
      "   ├─ \u001b[31mtensorflow [0.12.1|1.0.0|...|1.5.1]\u001b[0m would require\n",
      "   │  └─ \u001b[31mpython 3.6* \u001b[0m, which conflicts with any installable versions previously reported;\n",
      "   ├─ \u001b[31mtensorflow [1.10.0|1.13.1|...|1.9.0]\u001b[0m would require\n",
      "   │  ├─ \u001b[31mpython >=3.6,<3.7.0a0 \u001b[0m, which conflicts with any installable versions previously reported;\n",
      "   │  └─ \u001b[31mtensorflow-base 1.13.2 py36_0\u001b[0m, which requires\n",
      "   │     └─ \u001b[31mpython >=3.6,<3.7.0a0 \u001b[0m, which conflicts with any installable versions previously reported;\n",
      "   ├─ \u001b[31mtensorflow 1.13.1\u001b[0m would require\n",
      "   │  ├─ \u001b[31mpython >=3.7,<3.8.0a0 \u001b[0m, which conflicts with any installable versions previously reported;\n",
      "   │  └─ \u001b[31mtensorflow-base [1.13.1 py37_4|1.13.1 py37_6|1.13.1 py37_8]\u001b[0m, which requires\n",
      "   │     └─ \u001b[31mpython >=3.7,<3.8.0a0 \u001b[0m, which conflicts with any installable versions previously reported;\n",
      "   ├─ \u001b[31mtensorflow 1.14.0\u001b[0m would require\n",
      "   │  └─ \u001b[31mtensorflow-base [1.14.0 py36h9f0ad1d_0|1.14.0 py37hc8dfbb8_0]\u001b[0m, which requires\n",
      "   │     └─ \u001b[31mnumpy >=1.16.1,<2.0.0a0 \u001b[0m, which conflicts with any installable versions previously reported;\n",
      "   ├─ \u001b[31mtensorflow [2.10.0|2.11.0|...|2.9.1]\u001b[0m would require\n",
      "   │  └─ \u001b[31mtensorflow-base [2.10.0 cpu_py310h23d3fc9_0|2.11.0 cpu_py310h760b059_0|...|2.9.1 cpu_py310h157eb30_0]\u001b[0m, which requires\n",
      "   │     └─ \u001b[31mnumpy >=1.21.6,<2.0a0 \u001b[0m, which conflicts with any installable versions previously reported;\n",
      "   ├─ \u001b[31mtensorflow [2.10.0|2.11.0|...|2.9.1]\u001b[0m would require\n",
      "   │  └─ \u001b[31mtensorflow-base [2.10.0 cpu_py37he4de7cd_0|2.10.0 cpu_py38h13e9d53_0|...|2.9.1 cpu_py39hdd40284_0]\u001b[0m, which requires\n",
      "   │     └─ \u001b[31mnumpy >=1.20.3,<2.0a0 \u001b[0m, which conflicts with any installable versions previously reported;\n",
      "   ├─ \u001b[31mtensorflow [2.4.0|2.4.1|2.4.3]\u001b[0m would require\n",
      "   │  └─ \u001b[31mtensorflow-base [2.4.0 py36haedffce_0|2.4.0 py37h618b513_0|...|2.4.3 py39h9e0eb93_0]\u001b[0m, which requires\n",
      "   │     └─ \u001b[31mh5py 2.10.* \u001b[0m but there are no viable options\n",
      "   │        ├─ \u001b[31mh5py 2.10.0\u001b[0m would require\n",
      "   │        │  └─ \u001b[31mnumpy >=1.14.6,<2.0a0 \u001b[0m, which conflicts with any installable versions previously reported;\n",
      "   │        ├─ \u001b[31mh5py 2.10.0\u001b[0m would require\n",
      "   │        │  └─ \u001b[31mnumpy >=1.17.5,<2.0a0 \u001b[0m, which conflicts with any installable versions previously reported;\n",
      "   │        ├─ \u001b[31mh5py 2.10.0\u001b[0m would require\n",
      "   │        │  └─ \u001b[31mnumpy >=1.16.5,<2.0a0 \u001b[0m, which conflicts with any installable versions previously reported;\n",
      "   │        ├─ \u001b[31mh5py 2.10.0\u001b[0m would require\n",
      "   │        │  └─ \u001b[31mnumpy >=1.16.6,<2.0a0 \u001b[0m, which conflicts with any installable versions previously reported;\n",
      "   │        ├─ \u001b[31mh5py 2.10.0\u001b[0m would require\n",
      "   │        │  └─ \u001b[31mnumpy >=1.19.5,<2.0a0 \u001b[0m, which conflicts with any installable versions previously reported;\n",
      "   │        └─ \u001b[31mh5py 2.10.0\u001b[0m would require\n",
      "   │           └─ \u001b[31mnumpy >=1.19.2,<2.0a0 \u001b[0m, which conflicts with any installable versions previously reported;\n",
      "   ├─ \u001b[31mtensorflow [2.6.0|2.6.2]\u001b[0m would require\n",
      "   │  └─ \u001b[31mtensorflow-base [2.6.0 py36ha9b9f1f_0|2.6.0 py37h05ab19a_0|...|2.6.2 cpu_py39h87c5db1_2]\u001b[0m, which requires\n",
      "   │     └─ \u001b[31mnumpy >=1.19.2,<1.20 \u001b[0m, which conflicts with any installable versions previously reported;\n",
      "   ├─ \u001b[31mtensorflow 2.7.0\u001b[0m would require\n",
      "   │  └─ \u001b[31mtensorflow-base 2.7.0 cpu_py310h437b8d6_0\u001b[0m, which requires\n",
      "   │     └─ \u001b[31mnumpy >=1.21.5,<2.0a0 \u001b[0m, which conflicts with any installable versions previously reported;\n",
      "   ├─ \u001b[31mtensorflow 2.7.0\u001b[0m would require\n",
      "   │  └─ \u001b[31mtensorflow-base [2.7.0 cpu_py37ha7bdf64_0|2.7.0 cpu_py38h91e8603_0]\u001b[0m, which requires\n",
      "   │     └─ \u001b[31mnumpy >=1.18.5,<2.0a0 \u001b[0m, which conflicts with any installable versions previously reported;\n",
      "   ├─ \u001b[31mtensorflow [2.7.0|2.7.1]\u001b[0m would require\n",
      "   │  └─ \u001b[31mtensorflow-base [2.7.0 cpu_py39h326c378_0|2.7.1 cpu_py37hc797e70_0|2.7.1 cpu_py38h2ac695d_0|2.7.1 cpu_py39hc561296_0]\u001b[0m, which requires\n",
      "   │     └─ \u001b[31mnumpy >=1.19.5,<2.0a0 \u001b[0m, which conflicts with any installable versions previously reported;\n",
      "   ├─ \u001b[31mtensorflow 2.12.1\u001b[0m would require\n",
      "   │  └─ \u001b[31mtensorflow-base [2.12.1 cpu_py310h235f313_0|2.12.1 cpu_py38h2d44dff_0|2.12.1 cpu_py39h905e513_0]\u001b[0m, which requires\n",
      "   │     └─ \u001b[31mnumpy >=1.22,<2.0a0 \u001b[0m, which conflicts with any installable versions previously reported;\n",
      "   ├─ \u001b[31mtensorflow [2.12.1|2.13.1|...|2.17.0]\u001b[0m would require\n",
      "   │  └─ \u001b[31mtensorflow-base [2.12.1 cpu_py310h72f9296_1|2.12.1 cpu_py38h7595b79_1|...|2.17.0 cpu_py39hd0ea08c_0]\u001b[0m, which requires\n",
      "   │     └─ \u001b[31mnumpy >=1.22.4,<2.0a0 \u001b[0m, which conflicts with any installable versions previously reported;\n",
      "   ├─ \u001b[31mtensorflow [2.12.1|2.13.1|...|2.17.0]\u001b[0m would require\n",
      "   │  └─ \u001b[31mtensorflow-base [2.12.1 cpu_py311h0cd1a8d_1|2.12.1 cpu_py311h682096a_0|...|2.17.0 cpu_py311ha49c014_3]\u001b[0m, which requires\n",
      "   │     └─ \u001b[31mnumpy >=1.23.5,<2.0a0 \u001b[0m, which conflicts with any installable versions previously reported;\n",
      "   └─ \u001b[31mtensorflow [2.16.1|2.17.0]\u001b[0m would require\n",
      "      └─ \u001b[31mtensorflow-base [2.16.1 cpu_py312h2571b1d_0|2.17.0 cpu_py312h48e1e5b_0|2.17.0 cpu_py312h92ba555_3]\u001b[0m, which requires\n",
      "         └─ \u001b[31mnumpy >=1.26.4,<2.0a0 \u001b[0m, which conflicts with any installable versions previously reported.\n",
      "\n"
     ]
    }
   ],
   "source": [
    "# Example of an environment that doesn't work.\n",
    "# This is a made up example, but you can run into this with mega-environments.\n",
    "!conda create -p ./example_conda_env \"python=3.12\" \"numpy>2.0\" tensorflow"
   ]
  },
  {
   "cell_type": "markdown",
   "id": "515d547c-1b1c-4004-9516-31f70dbd7157",
   "metadata": {
    "editable": true,
    "slideshow": {
     "slide_type": "slide"
    },
    "tags": []
   },
   "source": [
    "# Using conda\n",
    "\n",
    "* First thing, don't use [anaconda](https://www.anaconda.com/download) distribution.  NIST isn't paying for it anymore, and it is bloated with packages you probably don't need.\n",
    "* Instead, use [MiniForge](https://github.com/conda-forge/miniforge) or [micromamba](https://mamba.readthedocs.io/en/latest/user_guide/micromamba.html)\n",
    "* On that note, stop using `conda` and switch to using `mamba`.  It's exactly the same, but faster.\n",
    "* If using conda, you can (and should) use an environment.yaml file"
   ]
  },
  {
   "cell_type": "code",
   "execution_count": 11,
   "id": "eaa41f62-9187-49d8-a29d-8f4d58607013",
   "metadata": {
    "editable": true,
    "slideshow": {
     "slide_type": "fragment"
    },
    "tags": []
   },
   "outputs": [
    {
     "name": "stdout",
     "output_type": "stream",
     "text": [
      "name: python-packaging-tools-example-dev\n",
      "channels:\n",
      "  - conda-forge\n",
      "dependencies:\n",
      "  - python=3.12\n",
      "  - ipykernel\n",
      "  - pandas\n",
      "  - pip\n"
     ]
    }
   ],
   "source": [
    "!cat example-conda-env/py312-example-env.yaml"
   ]
  },
  {
   "cell_type": "code",
   "execution_count": 12,
   "id": "b669e04b-3ede-4999-a8ed-40185ef90cdc",
   "metadata": {
    "editable": true,
    "slideshow": {
     "slide_type": "fragment"
    },
    "tags": []
   },
   "outputs": [
    {
     "name": "stdout",
     "output_type": "stream",
     "text": [
      "\u001b[?25l\u001b[2K\u001b[0G[+] 0.0s\n",
      "\u001b[2K\u001b[1A\u001b[2K\u001b[0G\u001b[?25h\u001b[?25l\u001b[2K\u001b[0G[+] 0.0s\n",
      "\u001b[2K\u001b[1A\u001b[2K\u001b[0G[+] 0.1s\n",
      "conda-forge/noarch \u001b[38;2;146;054;157m\u001b[48;2;146;054;164m━━━━━╸\u001b[0m\u001b[1m\u001b[2m\u001b[5m\u001b[8m\u001b[00m\u001b[10m━━━━━━━━━━━━━━━╸\u001b[0m\u001b[38;2;146;054;157m\u001b[48;2;146;054;164m━━━\u001b[0m   0.0 B /  ??.?MB @  ??.?MB/s  0.0s\n",
      "\u001b[2K\u001b[1A\u001b[2K\u001b[1A\u001b[2K\u001b[0G[+] 0.2sm\u001b[2m\u001b[4m\u001b[9m\u001b[10m\u001b[48;2;000;000;000m---------------\u001b[0m   0.0 B /  ??.?MB @  ??.?MB/s  0.0s\n",
      "conda-forge/noarch \u001b[38;2;146;054;157m\u001b[48;2;146;054;164m━━━━━━━━━━━━━━━━━━━━━━━━━\u001b[0m 687.4kB /  19.2MB @   4.1MB/s  0.1s\n",
      "\u001b[2K\u001b[1A\u001b[2K\u001b[1A\u001b[2K\u001b[0G[+] 0.3s------------  14.1kB /  36.7MB @  84.9kB/s  0.1s\n",
      "conda-forge/noarch \u001b[134m━━━╸\u001b[0m\u001b[38;2;146;054;157m\u001b[48;2;146;054;164m━━━━━━━━━━━━━━━━━━━━━\u001b[0m   3.4MB /  19.2MB @  12.0MB/s  0.2s\n",
      "\u001b[2K\u001b[1A\u001b[2K\u001b[1A\u001b[2K\u001b[0G[+] 0.4s[00m\u001b[50m-\u001b[0m------------------------   1.5MB /  36.7MB @   5.5MB/s  0.2s\n",
      "conda-forge/noarch \u001b[134m━━━━━━╸\u001b[0m\u001b[38;2;146;054;157m\u001b[48;2;146;054;164m━━━━━━━━━━━━━━━━━━\u001b[0m   5.5MB /  19.2MB @  14.2MB/s  0.3s\n",
      "\u001b[2K\u001b[1A\u001b[2K\u001b[1A\u001b[2K\u001b[0G[+] 0.5s[00m\u001b[50m--\u001b[0m-----------------------   3.6MB /  36.7MB @   9.4MB/s  0.3s\n",
      "conda-forge/noarch \u001b[134m━━━━━━━━━╸\u001b[0m\u001b[38;2;146;054;157m\u001b[48;2;146;054;164m━━━━━━━━━━━━━━━\u001b[0m   7.8MB /  19.2MB @  15.6MB/s  0.4s\n",
      "\u001b[2K\u001b[1A\u001b[2K\u001b[1A\u001b[2K\u001b[0G[+] 0.6s[00m\u001b[50m----\u001b[0m---------------------   5.9MB /  36.7MB @  11.9MB/s  0.4s\n",
      "conda-forge/noarch \u001b[134m━━━━━━━━━━╸\u001b[0m\u001b[38;2;146;054;157m\u001b[48;2;146;054;164m━━━━━━━━━━━━━━\u001b[0m   8.9MB /  19.2MB @  16.0MB/s  0.5s\n",
      "\u001b[2K\u001b[1A\u001b[2K\u001b[1A\u001b[2K\u001b[0G[+] 0.7s[00m\u001b[50m----\u001b[0m---------------------   7.0MB /  36.7MB @  12.7MB/s  0.5s\n",
      "conda-forge/noarch \u001b[134m━━━━━━━━━━━━━╸\u001b[0m\u001b[38;2;146;054;157m\u001b[48;2;146;054;164m━━━━━━━━━━━\u001b[0m  11.0MB /  19.2MB @  16.6MB/s  0.6s\n",
      "\u001b[2K\u001b[1A\u001b[2K\u001b[1A\u001b[2K\u001b[0G[+] 0.8s[00m\u001b[50m------\u001b[0m-------------------   9.1MB /  36.7MB @  13.9MB/s  0.6s\n",
      "conda-forge/noarch \u001b[134m━━━━━━━━━━━━━━━━╸\u001b[0m\u001b[38;2;146;054;157m\u001b[48;2;146;054;164m━━━━━━━━\u001b[0m  13.1MB /  19.2MB @  17.1MB/s  0.7s\n",
      "\u001b[2K\u001b[1A\u001b[2K\u001b[1A\u001b[2K\u001b[0G[+] 0.9s[00m\u001b[50m-------\u001b[0m------------------  11.3MB /  36.7MB @  14.8MB/s  0.7s\n",
      "conda-forge/noarch \u001b[134m━━━━━━━━━━━━━━━━━━━╸\u001b[0m\u001b[38;2;146;054;157m\u001b[48;2;146;054;164m━━━━━\u001b[0m  15.4MB /  19.2MB @  17.5MB/s  0.8s\n",
      "\u001b[2K\u001b[1A\u001b[2K\u001b[1A\u001b[2K\u001b[0G[+] 1.0s[00m\u001b[50m---------\u001b[0m----------------  13.6MB /  36.7MB @  15.5MB/s  0.8s\n",
      "conda-forge/noarch \u001b[134m━━━━━━━━━━━━━━━━━━━━━╸\u001b[0m\u001b[38;2;146;054;157m\u001b[48;2;146;054;164m━━━\u001b[0m  17.1MB /  19.2MB @  17.3MB/s  0.9s\n",
      "\u001b[2K\u001b[1A\u001b[2K\u001b[1A\u001b[2K\u001b[0Gconda-forge/noarch                                  19.2MB @  18.2MB/s  1.0s  0.9s\n",
      "[+] 1.1s\n",
      "\u001b[2K\u001b[1A\u001b[2K\u001b[0G[+] 1.2s[7m\u001b[8m\u001b[00m\u001b[50m--------------\u001b[0m-----------  20.6MB /  36.7MB @  18.7MB/s  1.0s\n",
      "\u001b[2K\u001b[1A\u001b[2K\u001b[0G[+] 1.3s[7m\u001b[8m\u001b[00m\u001b[50m----------------\u001b[0m---------  24.0MB /  36.7MB @  20.9MB/s  1.1s\n",
      "\u001b[2K\u001b[1A\u001b[2K\u001b[0Gconda-forge/osx-64                                  36.7MB @  26.0MB/s  1.3s24.3MB/s  1.2s\n",
      "\u001b[?25h\n",
      "\u001b[31m\u001b[1merror    libmamba\u001b[m Could not create directory '/usr/local/pkgs': Permission denied\n",
      "\n",
      "Transaction\n",
      "\n",
      "  Prefix: /Users/wpk/.conda/envs/python-packaging-tools-example-dev\n",
      "\n",
      "  Updating specs:\n",
      "\n",
      "   - python=3.12\n",
      "   - ipykernel\n",
      "   - pandas\n",
      "   - pip\n",
      "\n",
      "\n",
      "  Package                    Version  Build                 Channel           Size\n",
      "────────────────────────────────────────────────────────────────────────────────────\n",
      "  Install:\n",
      "────────────────────────────────────────────────────────────────────────────────────\n",
      "\n",
      "  \u001b[32m+ appnope           \u001b[0m         0.1.4  pyhd8ed1ab_1          conda-forge\u001b[32m     Cached\u001b[0m\n",
      "  \u001b[32m+ asttokens         \u001b[0m         3.0.0  pyhd8ed1ab_1          conda-forge\u001b[32m     Cached\u001b[0m\n",
      "  \u001b[32m+ bzip2             \u001b[0m         1.0.8  hfdf4475_7            conda-forge\u001b[32m     Cached\u001b[0m\n",
      "  \u001b[32m+ ca-certificates   \u001b[0m     2025.1.31  h8857fd0_0            conda-forge\u001b[32m     Cached\u001b[0m\n",
      "  \u001b[32m+ comm              \u001b[0m         0.2.2  pyhd8ed1ab_1          conda-forge\u001b[32m     Cached\u001b[0m\n",
      "  \u001b[32m+ debugpy           \u001b[0m        1.8.12  py312haafddd8_0       conda-forge\u001b[32m     Cached\u001b[0m\n",
      "  \u001b[32m+ decorator         \u001b[0m         5.1.1  pyhd8ed1ab_1          conda-forge\u001b[32m     Cached\u001b[0m\n",
      "  \u001b[32m+ exceptiongroup    \u001b[0m         1.2.2  pyhd8ed1ab_1          conda-forge\u001b[32m     Cached\u001b[0m\n",
      "  \u001b[32m+ executing         \u001b[0m         2.1.0  pyhd8ed1ab_1          conda-forge\u001b[32m     Cached\u001b[0m\n",
      "  \u001b[32m+ importlib-metadata\u001b[0m         8.6.1  pyha770c72_0          conda-forge\u001b[32m     Cached\u001b[0m\n",
      "  \u001b[32m+ ipykernel         \u001b[0m        6.29.5  pyh57ce528_0          conda-forge\u001b[32m     Cached\u001b[0m\n",
      "  \u001b[32m+ ipython           \u001b[0m        8.32.0  pyh907856f_0          conda-forge\u001b[32m     Cached\u001b[0m\n",
      "  \u001b[32m+ jedi              \u001b[0m        0.19.2  pyhd8ed1ab_1          conda-forge\u001b[32m     Cached\u001b[0m\n",
      "  \u001b[32m+ jupyter_client    \u001b[0m         8.6.3  pyhd8ed1ab_1          conda-forge\u001b[32m     Cached\u001b[0m\n",
      "er_core      \u001b[0m         5.7.2  pyh31011fe_1          conda-forge\u001b[32m     Cached\u001b[0m\n",
      "  \u001b[32m+ krb5              \u001b[0m        1.21.3  h37d8d59_0            conda-forge\u001b[32m     Cached\u001b[0m\n",
      "  \u001b[32m+ libblas           \u001b[0m         3.9.0  30_h7f60823_openblas  conda-forge\u001b[32m     Cached\u001b[0m\n",
      "  \u001b[32m+ libcblas          \u001b[0m         3.9.0  30_hff6cab4_openblas  conda-forge\u001b[32m     Cached\u001b[0m\n",
      "  \u001b[32m+ libcxx            \u001b[0m        19.1.7  hf95d169_0            conda-forge\u001b[32m     Cached\u001b[0m\n",
      "  \u001b[32m+ libedit           \u001b[0m  3.1.20250104  pl5321ha958ccf_0      conda-forge\u001b[32m     Cached\u001b[0m\n",
      "  \u001b[32m+ libexpat          \u001b[0m         2.6.4  h240833e_0            conda-forge\u001b[32m     Cached\u001b[0m\n",
      "  \u001b[32m+ libffi            \u001b[0m         3.4.6  h281671d_0            conda-forge\u001b[32m     Cached\u001b[0m\n",
      "  \u001b[32m+ libgfortran       \u001b[0m         5.0.0  13_2_0_h97931a8_3     conda-forge\u001b[32m     Cached\u001b[0m\n",
      "  \u001b[32m+ libgfortran5      \u001b[0m        13.2.0  h2873a65_3            conda-forge\u001b[32m     Cached\u001b[0m\n",
      "  \u001b[32m+ liblapack         \u001b[0m         3.9.0  30_h236ab99_openblas  conda-forge\u001b[32m     Cached\u001b[0m\n",
      "  \u001b[32m+ liblzma           \u001b[0m         5.6.4  hd471939_0            conda-forge\u001b[32m     Cached\u001b[0m\n",
      "  \u001b[32m+ libopenblas       \u001b[0m        0.3.29  openmp_hbf64a52_0     conda-forge\u001b[32m     Cached\u001b[0m\n",
      "  \u001b[32m+ libsodium         \u001b[0m        1.0.20  hfdf4475_0            conda-forge\u001b[32m     Cached\u001b[0m\n",
      "  \u001b[32m+ libsqlite         \u001b[0m        3.49.1  hdb6dae5_1            conda-forge\u001b[32m     Cached\u001b[0m\n",
      "  \u001b[32m+ libzlib           \u001b[0m         1.3.1  hd23fc13_2            conda-forge\u001b[32m     Cached\u001b[0m\n",
      "  \u001b[32m+ llvm-openmp       \u001b[0m        19.1.7  ha54dae1_0            conda-forge\u001b[32m     Cached\u001b[0m\n",
      "  \u001b[32m+ matplotlib-inline \u001b[0m         0.1.7  pyhd8ed1ab_1          conda-forge\u001b[32m     Cached\u001b[0m\n",
      "  \u001b[32m+ ncurses           \u001b[0m           6.5  h0622a9a_3            conda-forge\u001b[32m     Cached\u001b[0m\n",
      "  \u001b[32m+ nest-asyncio      \u001b[0m         1.6.0  pyhd8ed1ab_1          conda-forge\u001b[32m     Cached\u001b[0m\n",
      "  \u001b[32m+ numpy             \u001b[0m         2.2.3  py312h6693b03_0       conda-forge\u001b[32m     Cached\u001b[0m\n",
      "  \u001b[32m+ openssl           \u001b[0m         3.4.1  hc426f3f_0            conda-forge\u001b[32m     Cached\u001b[0m\n",
      "  \u001b[32m+ packaging         \u001b[0m          24.2  pyhd8ed1ab_2          conda-forge\u001b[32m     Cached\u001b[0m\n",
      "  \u001b[32m+ pandas            \u001b[0m         2.2.3  py312h98e817e_1       conda-forge\u001b[32m     Cached\u001b[0m\n",
      "  \u001b[32m+ parso             \u001b[0m         0.8.4  pyhd8ed1ab_1          conda-forge\u001b[32m     Cached\u001b[0m\n",
      "  \u001b[32m+ pexpect           \u001b[0m         4.9.0  pyhd8ed1ab_1          conda-forge\u001b[32m     Cached\u001b[0m\n",
      "  \u001b[32m+ pickleshare       \u001b[0m         0.7.5  pyhd8ed1ab_1004       conda-forge\u001b[32m     Cached\u001b[0m\n",
      "  \u001b[32m+ pip               \u001b[0m        25.0.1  pyh8b19718_0          conda-forge\u001b[32m     Cached\u001b[0m\n",
      "  \u001b[32m+ platformdirs      \u001b[0m         4.3.6  pyhd8ed1ab_1          conda-forge\u001b[32m     Cached\u001b[0m\n",
      "  \u001b[32m+ prompt-toolkit    \u001b[0m        3.0.50  pyha770c72_0          conda-forge\u001b[32m     Cached\u001b[0m\n",
      "  \u001b[32m+ psutil            \u001b[0m         6.1.1  py312h01d7ebd_0       conda-forge\u001b[32m     Cached\u001b[0m\n",
      "  \u001b[32m+ ptyprocess        \u001b[0m         0.7.0  pyhd8ed1ab_1          conda-forge\u001b[32m     Cached\u001b[0m\n",
      "  \u001b[32m+ pure_eval         \u001b[0m         0.2.3  pyhd8ed1ab_1          conda-forge\u001b[32m     Cached\u001b[0m\n",
      "  \u001b[32m+ pygments          \u001b[0m        2.19.1  pyhd8ed1ab_0          conda-forge\u001b[32m     Cached\u001b[0m\n",
      "  \u001b[32m+ python            \u001b[0m        3.12.9  h9ccd52b_0_cpython    conda-forge\u001b[32m     Cached\u001b[0m\n",
      "  \u001b[32m+ python-dateutil   \u001b[0m   2.9.0.post0  pyhff2d567_1          conda-forge\u001b[32m     Cached\u001b[0m\n",
      "  \u001b[32m+ python-tzdata     \u001b[0m        2025.1  pyhd8ed1ab_0          conda-forge\u001b[32m     Cached\u001b[0m\n",
      "  \u001b[32m+ python_abi        \u001b[0m          3.12  5_cp312               conda-forge\u001b[32m     Cached\u001b[0m\n",
      "  \u001b[32m+ pytz              \u001b[0m        2024.1  pyhd8ed1ab_0          conda-forge\u001b[32m     Cached\u001b[0m\n",
      "  \u001b[32m+ pyzmq             \u001b[0m        26.2.1  py312h679dbab_0       conda-forge\u001b[32m     Cached\u001b[0m\n",
      "  \u001b[32m+ readline          \u001b[0m           8.2  h9e318b2_1            conda-forge\u001b[32m     Cached\u001b[0m\n",
      "  \u001b[32m+ setuptools        \u001b[0m        75.8.0  pyhff2d567_0          conda-forge\u001b[32m     Cached\u001b[0m\n",
      "  \u001b[32m+ six               \u001b[0m        1.17.0  pyhd8ed1ab_0          conda-forge\u001b[32m     Cached\u001b[0m\n",
      "  \u001b[32m+ stack_data        \u001b[0m         0.6.3  pyhd8ed1ab_1          conda-forge\u001b[32m     Cached\u001b[0m\n",
      "  \u001b[32m+ tk                \u001b[0m        8.6.13  h1abcd95_1            conda-forge\u001b[32m     Cached\u001b[0m\n",
      "  \u001b[32m+ tornado           \u001b[0m         6.4.2  py312h01d7ebd_0       conda-forge\u001b[32m     Cached\u001b[0m\n",
      "  \u001b[32m+ traitlets         \u001b[0m        5.14.3  pyhd8ed1ab_1          conda-forge\u001b[32m     Cached\u001b[0m\n",
      "  \u001b[32m+ typing_extensions \u001b[0m        4.12.2  pyha770c72_1          conda-forge\u001b[32m     Cached\u001b[0m\n",
      "  \u001b[32m+ tzdata            \u001b[0m         2025a  h78e105d_0            conda-forge\u001b[32m     Cached\u001b[0m\n",
      "  \u001b[32m+ wcwidth           \u001b[0m        0.2.13  pyhd8ed1ab_1          conda-forge\u001b[32m     Cached\u001b[0m\n",
      "  \u001b[32m+ wheel             \u001b[0m        0.45.1  pyhd8ed1ab_1          conda-forge\u001b[32m     Cached\u001b[0m\n",
      "  \u001b[32m+ zeromq            \u001b[0m         4.3.5  h7130eaa_7            conda-forge\u001b[32m     Cached\u001b[0m\n",
      "  \u001b[32m+ zipp              \u001b[0m        3.21.0  pyhd8ed1ab_1          conda-forge\u001b[32m     Cached\u001b[0m\n",
      "\n",
      "  Summary:\n",
      "\n",
      "  Install: 67 packages\n",
      "\n",
      "  Total download: 0 B\n",
      "\n",
      "────────────────────────────────────────────────────────────────────────────────────\n",
      "\n",
      "\n",
      "\n",
      "Transaction starting\n",
      "\u001b[?25l\u001b[2K\u001b[0G[+] 0.0s\n",
      "\u001b[2K\u001b[1A\u001b[2K\u001b[0G\u001b[?25hLinking libexpat-2.6.4-h240833e_0\n",
      "Linking liblzma-5.6.4-hd471939_0\n",
      "Linking ncurses-6.5-h0622a9a_3\n",
      "Linking bzip2-1.0.8-hfdf4475_7\n",
      "Linking libffi-3.4.6-h281671d_0\n",
      "Linking libzlib-1.3.1-hd23fc13_2\n",
      "Linking libcxx-19.1.7-hf95d169_0\n",
      "Linking python_abi-3.12-5_cp312\n",
      "Linking ca-certificates-2025.1.31-h8857fd0_0\n",
      "Linking llvm-openmp-19.1.7-ha54dae1_0\n",
      "Linking libsodium-1.0.20-hfdf4475_0\n",
      "Linking libedit-3.1.20250104-pl5321ha958ccf_0\n",
      "Linking readline-8.2-h9e318b2_1\n",
      "Linking tk-8.6.13-h1abcd95_1\n",
      "Linking libsqlite-3.49.1-hdb6dae5_1\n",
      "Linking openssl-3.4.1-hc426f3f_0\n",
      "Linking libgfortran5-13.2.0-h2873a65_3\n",
      "Linking krb5-1.21.3-h37d8d59_0\n",
      "Linking libgfortran-5.0.0-13_2_0_h97931a8_3\n",
      "Linking zeromq-4.3.5-h7130eaa_7\n",
      "Linking libopenblas-0.3.29-openmp_hbf64a52_0\n",
      "Linking libblas-3.9.0-30_h7f60823_openblas\n",
      "Linking libcblas-3.9.0-30_hff6cab4_openblas\n",
      "Linking liblapack-3.9.0-30_h236ab99_openblas\n",
      "Linking tzdata-2025a-h78e105d_0\n",
      "Linking python-3.12.9-h9ccd52b_0_cpython\n",
      "Linking wheel-0.45.1-pyhd8ed1ab_1\n",
      "Linking setuptools-75.8.0-pyhff2d567_0\n",
      "Linking pip-25.0.1-pyh8b19718_0\n",
      "Linking parso-0.8.4-pyhd8ed1ab_1\n",
      "Linking ptyprocess-0.7.0-pyhd8ed1ab_1\n",
      "Linking wcwidth-0.2.13-pyhd8ed1ab_1\n",
      "Linking pure_eval-0.2.3-pyhd8ed1ab_1\n",
      "Linking executing-2.1.0-pyhd8ed1ab_1\n",
      "Linking asttokens-3.0.0-pyhd8ed1ab_1\n",
      "Linking zipp-3.21.0-pyhd8ed1ab_1\n",
      "Linking typing_extensions-4.12.2-pyha770c72_1\n",
      "Linking pygments-2.19.1-pyhd8ed1ab_0\n",
      "Linking pickleshare-0.7.5-pyhd8ed1ab_1004\n",
      "Linking exceptiongroup-1.2.2-pyhd8ed1ab_1\n",
      "Linking decorator-5.1.1-pyhd8ed1ab_1\n",
      "Linking platformdirs-4.3.6-pyhd8ed1ab_1\n",
      "Linking traitlets-5.14.3-pyhd8ed1ab_1\n",
      "Linking packaging-24.2-pyhd8ed1ab_2\n",
      "Linking nest-asyncio-1.6.0-pyhd8ed1ab_1\n",
      "Linking appnope-0.1.4-pyhd8ed1ab_1\n",
      "Linking six-1.17.0-pyhd8ed1ab_0\n",
      "Linking pytz-2024.1-pyhd8ed1ab_0\n",
      "Linking python-tzdata-2025.1-pyhd8ed1ab_0\n",
      "Linking jedi-0.19.2-pyhd8ed1ab_1\n",
      "Linking pexpect-4.9.0-pyhd8ed1ab_1\n",
      "Linking prompt-toolkit-3.0.50-pyha770c72_0\n",
      "Linking stack_data-0.6.3-pyhd8ed1ab_1\n",
      "Linking importlib-metadata-8.6.1-pyha770c72_0\n",
      "Linking matplotlib-inline-0.1.7-pyhd8ed1ab_1\n",
      "Linking jupyter_core-5.7.2-pyh31011fe_1\n",
      "Linking comm-0.2.2-pyhd8ed1ab_1\n",
      "Linking python-dateutil-2.9.0.post0-pyhff2d567_1\n",
      "Linking ipython-8.32.0-pyh907856f_0\n",
      "Linking tornado-6.4.2-py312h01d7ebd_0\n",
      "Linking pyzmq-26.2.1-py312h679dbab_0\n",
      "Linking psutil-6.1.1-py312h01d7ebd_0\n",
      "Linking debugpy-1.8.12-py312haafddd8_0\n",
      "Linking numpy-2.2.3-py312h6693b03_0\n",
      "Linking pandas-2.2.3-py312h98e817e_1\n",
      "Linking jupyter_client-8.6.3-pyhd8ed1ab_1\n",
      "Linking ipykernel-6.29.5-pyh57ce528_0\n",
      "\n",
      "Transaction finished\n",
      "\n",
      "To activate this environment, use:\n",
      "\n",
      "    mamba activate python-packaging-tools-example-dev\n",
      "\n",
      "Or to execute a single command in this environment, use:\n",
      "\n",
      "    mamba run -n python-packaging-tools-example-dev mycommand\n",
      "\n"
     ]
    }
   ],
   "source": [
    "!mamba env create -y -f example-conda-env/py312-example-env.yaml"
   ]
  },
  {
   "cell_type": "markdown",
   "id": "0d63467e-e092-475c-9898-33df45f3f430",
   "metadata": {
    "editable": true,
    "slideshow": {
     "slide_type": "slide"
    },
    "tags": []
   },
   "source": [
    "# Better yet, use a lock environment\n",
    "\n",
    "* By locking, we mean pinning dependencies to a particular version.\n",
    "* You'll know exactly what you're using\n",
    "* Makes regenerating the environment simpler down the road\n",
    "* Makes sharing/distributing the environment cleaner."
   ]
  },
  {
   "cell_type": "markdown",
   "id": "7371d720-b033-4e75-90ab-ba7d3fd445d7",
   "metadata": {
    "editable": true,
    "slideshow": {
     "slide_type": "fragment"
    },
    "tags": []
   },
   "source": [
    "# What about docker?\n",
    "\n",
    "* Docker is awesome, but you still need to specify what you want to put into it.  You can still end up in dependency hell"
   ]
  },
  {
   "cell_type": "markdown",
   "id": "389830b1-413c-4066-9c70-fbd7604d1044",
   "metadata": {
    "editable": true,
    "slideshow": {
     "slide_type": "subslide"
    },
    "tags": []
   },
   "source": [
    "# If using conda, check out [conda-lock](https://github.com/conda/conda-lock)\n",
    "\n",
    "* lock an `environment.yaml` file for different architectures.\n",
    "\n",
    "```\n",
    "conda-lock lock -f {environment file}  --lockfile {output-lock-file}\n",
    "```\n",
    "\n",
    "* Create an environment from lockfile using either `conda-lock` or `micromamba`\n",
    "* There's also [pixi](https://github.com/prefix-dev/pixi)?"
   ]
  },
  {
   "cell_type": "markdown",
   "id": "5bb549ec-05a5-4002-95b2-e84a243a3485",
   "metadata": {
    "editable": true,
    "slideshow": {
     "slide_type": "slide"
    },
    "tags": []
   },
   "source": [
    "# An aside\n",
    "* I recommend using a single environment to control jupyterlab/notebook.  \n",
    "* To access a single kernel, you just include `ipykernel`.  \n",
    "* If new environment is a conda environment, I recommend using [nb_conda_kernels](https://github.com/anaconda/nb_conda_kernels)\n",
    "  - this will show you all the kernels installed via conda/mamba\n",
    "* Otherwise, use something like the following from the new environment:\n",
    "```bash\n",
    "python -m ipykernel install --user --name {kernel-name} --display-name {display-name}"
   ]
  },
  {
   "cell_type": "markdown",
   "id": "f04ff8c3-3055-4a0d-980d-3a5c327302ec",
   "metadata": {
    "editable": true,
    "slideshow": {
     "slide_type": "slide"
    },
    "tags": []
   },
   "source": [
    "# An alternative way to create environments\n",
    "* There's a different type of python environment: virtual environments\n",
    "* These use an already installed version of python, and use symlinks.\n",
    "* Downside is that they can break if the python install linked against changes\n",
    "* Plus is that they are very small, and very fast.\n",
    "* Previously, you'd need to use something like `pyenv`, `brew`, etc to manage your python version\n",
    "* Now, there is a one stop shop, [uv](https://docs.astral.sh/uv/) to handle virtual environments (and much more)"
   ]
  },
  {
   "cell_type": "markdown",
   "id": "45803a4d-2ab1-4ef1-bb6c-b2f0890bca32",
   "metadata": {
    "editable": true,
    "slideshow": {
     "slide_type": "slide"
    },
    "tags": []
   },
   "source": [
    "# Better still, use `uv lock`\n",
    "\n",
    "* `uv` is setup to be a package manage for python package development\n",
    "* Create package repo (`uv init ...`)\n",
    "* Add dependencies (`uv add ...`)\n",
    "* Lock dependencies (`uv lock ...` and `uv sync ..`)\n",
    "* Run commands (`uv run ...`)"
   ]
  },
  {
   "cell_type": "markdown",
   "id": "b900fe1d-710c-4c2a-8424-55890fbb44a4",
   "metadata": {
    "editable": true,
    "slideshow": {
     "slide_type": "slide"
    },
    "tags": []
   },
   "source": [
    "# Linters/code formatters\n",
    "* Linters and code formatters are great!\n",
    "* Don't worry about how your code looks (tabs vs spaces,  Multiline formatting, etc).  The linter takes care of this for you.\n",
    "* The defacto code formatting standards *were*:\n",
    "  - [Black](https://github.com/psf/black)\n",
    "  - [flake8](https://flake8.pycqa.org/en/latest/)\n",
    "* But the new standard is [ruff](https://docs.astral.sh/ruff/)"
   ]
  },
  {
   "cell_type": "markdown",
   "id": "a5caab83-7c86-459a-ae2f-38f9706c5067",
   "metadata": {
    "editable": true,
    "slideshow": {
     "slide_type": "subslide"
    },
    "tags": []
   },
   "source": [
    "# There are linters/formatters for just about everything\n",
    "* Make them a part of your workflow using [pre-commit](https://pre-commit.com/)\n",
    "* This has the advantage of versioning tools."
   ]
  },
  {
   "cell_type": "markdown",
   "id": "8c1efb0b-95c9-430e-9e6f-1de23bbfc127",
   "metadata": {
    "editable": true,
    "slideshow": {
     "slide_type": "slide"
    },
    "tags": []
   },
   "source": [
    "# Using templates\n",
    "* When starting a new project (not just python, but also latex, data project, etc), consider using:\n",
    "  - [cookiecutter](https://cookiecutter.readthedocs.io/en/stable/)\n",
    "  - [cruft](https://github.com/cruft/cruft)\n",
    "  - [copier](https://copier.readthedocs.io/en/stable/)\n",
    "* I use my own template [cookiecutter-nist-python](https://github.com/usnistgov/cookiecutter-nist-python) with cruft\n",
    "```bash\n",
    "cruft create --checkout develop https://github.com/usnistgov/cookiecutter-nist-python.git\n",
    "```"
   ]
  },
  {
   "cell_type": "markdown",
   "id": "db2e5f75-ce7b-4361-90d6-24c76b1815f0",
   "metadata": {
    "editable": true,
    "slideshow": {
     "slide_type": "slide"
    },
    "tags": []
   },
   "source": [
    "# Test your code\n",
    "\n",
    "* Use [pytest](https://docs.pytest.org/en/stable/)\n",
    "* Check out [nbval](https://nbval.readthedocs.io/en/latest/) for regression testing with jupyter notebooks.\n",
    "* Use [nox](https://nox.thea.codes/en/stable/) or [tox](https://tox.wiki/en/4.24.1/) to test across python version.\n",
    "* I personally use nox, because it uses python script as the config file.  Makes extending to do new/interesting things easy\n",
    "* `tox` is very powerful.  It uses config files for setup.\n"
   ]
  },
  {
   "cell_type": "markdown",
   "id": "ad7f1002-24c8-4266-aa51-85e046f0211a",
   "metadata": {
    "editable": true,
    "slideshow": {
     "slide_type": "slide"
    },
    "tags": []
   },
   "source": [
    "# Managing tooling\n",
    "* There are a host of python tools we've discussed already (formatters, pre-commit, cookiecutter/cruft/copier)\n",
    "* How do you interact with these?\n",
    "* Recommend using `uv tool install` and/or `uv tool run`, or equivalently, `uvx` (see [here](https://docs.astral.sh/uv/concepts/tools/))"
   ]
  },
  {
   "cell_type": "code",
   "execution_count": 13,
   "id": "f491fa3d-4ea0-48ff-864d-fa21cf784959",
   "metadata": {
    "editable": true,
    "slideshow": {
     "slide_type": "fragment"
    },
    "tags": []
   },
   "outputs": [
    {
     "name": "stdout",
     "output_type": "stream",
     "text": [
      "cowsay not found\n"
     ]
    }
   ],
   "source": [
    "!which cowsay"
   ]
  },
  {
   "cell_type": "code",
   "execution_count": 14,
   "id": "f92f9e28-d068-455c-bd5e-100c17cf7880",
   "metadata": {
    "editable": true,
    "slideshow": {
     "slide_type": "fragment"
    },
    "tags": []
   },
   "outputs": [
    {
     "name": "stdout",
     "output_type": "stream",
     "text": [
      "  ______________[2m                                                                              \u001b[0m\n",
      "| Hello from uvx |\n",
      "  ==============\n",
      "              \\\n",
      "               \\\n",
      "                 ^__^\n",
      "                 (oo)\\_______\n",
      "                 (__)\\       )\\/\\\n",
      "                     ||----w |\n",
      "                     ||     ||\n"
     ]
    }
   ],
   "source": [
    "!uvx cowsay -t \"Hello from uvx\""
   ]
  },
  {
   "cell_type": "code",
   "execution_count": 16,
   "id": "4c280a54-e069-48e5-8815-adbcfb68d307",
   "metadata": {
    "editable": true,
    "slideshow": {
     "slide_type": "fragment"
    },
    "tags": []
   },
   "outputs": [
    {
     "name": "stdout",
     "output_type": "stream",
     "text": [
      "100%|█████████████████████████████████████████| 12/12 [00:00<00:00, 8119.32it/s]                 \u001b[0m\n",
      "    sig  eps  lam  temp   dens_eff\n",
      "0   1.0 -1.0  0.1   0.5  15.462222\n",
      "1   1.0 -1.0  0.1   1.0   5.689557\n",
      "2   1.0 -1.0  0.1   2.0   3.451715\n",
      "3   1.0 -1.0  0.5   0.5  13.802952\n",
      "4   1.0 -1.0  0.5   1.0   5.243311\n",
      "5   1.0 -1.0  0.5   2.0   3.283239\n",
      "6   1.0 -1.0  1.0   0.5   2.094395\n",
      "7   1.0 -1.0  1.0   1.0   2.094395\n",
      "8   1.0 -1.0  1.0   2.0   2.094395\n",
      "9   1.0 -1.0  2.0   0.5 -91.574060\n",
      "10  1.0 -1.0  2.0   1.0 -23.096932\n",
      "11  1.0 -1.0  2.0   2.0  -7.416355\n"
     ]
    }
   ],
   "source": [
    "!uvx --from=\"git+https://github.com/wpk-nist-gov/python-packaging-tools.git@develop\"  sw-second-virial ../examples/data/params.csv"
   ]
  },
  {
   "cell_type": "markdown",
   "id": "55d90d7c-0c65-4d5a-b916-d0f03c31940a",
   "metadata": {
    "editable": true,
    "slideshow": {
     "slide_type": "slide"
    },
    "tags": []
   },
   "source": [
    "# Running scripts with `uv`\n",
    "* If you have one off python scripts, you don't need an environment at all!\n",
    "* Simply use `uv run {script}` (see [here](https://docs.astral.sh/uv/guides/scripts/))"
   ]
  },
  {
   "cell_type": "markdown",
   "id": "42e66ba7-933b-4bf6-9bbd-33b565f1a50f",
   "metadata": {
    "editable": true,
    "slideshow": {
     "slide_type": "slide"
    },
    "tags": []
   },
   "source": [
    "# Use a good editor\n",
    "\n",
    "* If you don't have strong opinions, it's probably best to use vscode\n",
    "* Regardless, try to use language server like pyright"
   ]
  }
 ],
 "metadata": {
  "kernelspec": {
   "display_name": "Python [venv: python-packaging-tools-dev]",
   "language": "python",
   "name": "python-packaging-tools-dev"
  },
  "language_info": {
   "codemirror_mode": {
    "name": "ipython",
    "version": 3
   },
   "file_extension": ".py",
   "mimetype": "text/x-python",
   "name": "python",
   "nbconvert_exporter": "python",
   "pygments_lexer": "ipython3",
   "version": "3.12.9"
  }
 },
 "nbformat": 4,
 "nbformat_minor": 5
}
